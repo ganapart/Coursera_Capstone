{
    "nbformat_minor": 1, 
    "cells": [
        {
            "source": "# Capstone Project - The Battle of the Neighborhoods\n", 
            "cell_type": "markdown", 
            "metadata": {
                "collapsed": true
            }
        }, 
        {
            "source": "## Introduction: Business Problem", 
            "cell_type": "markdown", 
            "metadata": {}
        }, 
        {
            "source": "### Introduction:\nThis analysis explores the most suitable locations for a business personnel to invest or open a Finger Millet (locally known as \u2018Ragi\u2019) processing unit in the state of Tamilnadu in India. Tamil Nadu is the tenth largest Indian state by area and the sixth largest by population and comprise of 37 districts. The economy of Tamil Nadu is the second-largest state economy in India. \nTamil Nadu has historically been an agricultural state and is a leading producer of agricultural products in India. The Cauvery delta region is known as the Rice Bowl of Tamil Nadu. \n\n\n\n### Scenario and Objective:\nBusiness personnel who wants to invest or open a Finger Millet (locally known as \u2018Ragi\u2019) processing unit as a side business. The objective is to find the best locations that has good amount of irrigated area of high-yield ragi, with good amenities/facilities and connectivity to other cities.\n### Data:\n\nFor this project we need the following data:\n1. The data that contains ragi irrigated area for each of the districts in TamilNadu is extracted,\n   * Data Source: https://tn.data.gov.in\n   * Description: This data set contains the required information. And we will use this data set to explore the ragi irrigated area.\n   The geographical coordinates are appended to this data using the geocoder\n\n2. All the venues for each of the distric are extracted using Foursquare API\n   * Data Source: Foursquare API\n   * Description: By using this API we will get all the venues in each of the districts in Tamil Nadu \n \n\n### Methodology:\n\n1. Extract the data of ragi irrigated area for each of the districts in TamilNadu from https://tn.data.gov.in\n1. Using Foursquare API we will get all venues for each of the districts in Tamil Nadu\n1. Exploratory analysis and Data Visualization\n1. Analysing using Clustering (Specially K-Means):\n1. Compare the districts to find the best Places for setting up of ragi processing unit\n1. Inference and relevant conclusions\n", 
            "cell_type": "markdown", 
            "metadata": {}
        }, 
        {
            "execution_count": null, 
            "cell_type": "code", 
            "metadata": {}, 
            "outputs": [], 
            "source": ""
        }
    ], 
    "metadata": {
        "kernelspec": {
            "display_name": "Python 3.6", 
            "name": "python3", 
            "language": "python"
        }, 
        "language_info": {
            "mimetype": "text/x-python", 
            "nbconvert_exporter": "python", 
            "version": "3.6.8", 
            "name": "python", 
            "file_extension": ".py", 
            "pygments_lexer": "ipython3", 
            "codemirror_mode": {
                "version": 3, 
                "name": "ipython"
            }
        }
    }, 
    "nbformat": 4
}